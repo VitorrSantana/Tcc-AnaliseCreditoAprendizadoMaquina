{
 "cells": [
  {
   "cell_type": "markdown",
   "metadata": {},
   "source": [
    "## 1 Configurações Iniciais"
   ]
  },
  {
   "cell_type": "code",
   "execution_count": null,
   "metadata": {},
   "outputs": [],
   "source": [
    "# !pip3 install -r requirements.txt"
   ]
  },
  {
   "cell_type": "code",
   "execution_count": null,
   "metadata": {},
   "outputs": [],
   "source": [
    "from config import DIRETORIO\n",
    "from config import DIR_BASE_APLICAT_TRAIN\n",
    "from config import DIR_BASE_APLICAT_TEST\n",
    "from config import DIR_BASE_BUREAU\n",
    "from config import DIR_BASE_BUREAU_BALAN\n",
    "from config import DIR_BASE_CRED_CARD_BAL\n",
    "from config import DIR_BASE_INSTAL_PAYAME\n",
    "from config import DIR_BASE_POS_CASH_BALA\n",
    "from config import DIR_BASE_PREVIOUS_APP"
   ]
  },
  {
   "cell_type": "code",
   "execution_count": null,
   "metadata": {},
   "outputs": [],
   "source": [
    "import matplotlib.pyplot as plt\n",
    "import pandas            as pd\n",
    "import numpy             as np\n",
    "import seaborn           as sn\n",
    "import warnings\n",
    "\n",
    "from src.pre_processamento.PreProcessamento import PreProcessamento\n",
    "from src.modelagem.Modelagem                import Modelagem\n",
    "from src.modelagem.Testes                   import Testes\n",
    "from src.pre_processamento.utils            import * \n",
    "from src.modelagem.Explicabilidade_Modelos  import *"
   ]
  },
  {
   "cell_type": "code",
   "execution_count": null,
   "metadata": {},
   "outputs": [],
   "source": [
    "pd.set_option('display.max_columns',200)\n",
    "pd.set_option('display.max_rows',200)\n",
    "\n",
    "warnings.filterwarnings(\"ignore\")"
   ]
  },
  {
   "cell_type": "code",
   "execution_count": null,
   "metadata": {},
   "outputs": [],
   "source": [
    "base_train  = pd.read_csv(DIR_BASE_APLICAT_TEST)\n",
    "base_bureau = pd.read_csv(DIR_BASE_BUREAU) \n",
    "base_prev   = pd.read_csv(DIR_BASE_PREVIOUS_APP) "
   ]
  },
  {
   "cell_type": "code",
   "execution_count": null,
   "metadata": {},
   "outputs": [],
   "source": [
    "base_train.isna().sum()/base_train.shape[0]"
   ]
  },
  {
   "cell_type": "code",
   "execution_count": null,
   "metadata": {},
   "outputs": [],
   "source": [
    "base_train.isna().sum()/base_train.shape[0]"
   ]
  },
  {
   "cell_type": "code",
   "execution_count": null,
   "metadata": {},
   "outputs": [],
   "source": [
    "base_prev['NAME_CONTRACT_TYPE'].value_counts()"
   ]
  },
  {
   "cell_type": "code",
   "execution_count": null,
   "metadata": {},
   "outputs": [],
   "source": [
    "base_prev_variaveis_numeric = create_vars_numeric(base_prev,cols_drop=['SK_ID_CURR','SK_ID_PREV'],remove_null=0.25,prefixo='prev')"
   ]
  },
  {
   "cell_type": "code",
   "execution_count": null,
   "metadata": {},
   "outputs": [],
   "source": [
    "base_prev_variaveis_numeric"
   ]
  },
  {
   "cell_type": "code",
   "execution_count": null,
   "metadata": {},
   "outputs": [],
   "source": [
    "base_bureau_variaveis = create_vars_numeric(base_bureau)"
   ]
  },
  {
   "cell_type": "code",
   "execution_count": null,
   "metadata": {},
   "outputs": [],
   "source": [
    "# SK_ID_CURR\n",
    "base_train = base_train.merge(base_bureau_variaveis,how='left',on=['SK_ID_CURR'])"
   ]
  },
  {
   "cell_type": "code",
   "execution_count": null,
   "metadata": {},
   "outputs": [],
   "source": [
    "base_train = base_train.merge(base_prev_variaveis_numeric,how='left',on=['SK_ID_CURR'])"
   ]
  },
  {
   "cell_type": "code",
   "execution_count": null,
   "metadata": {},
   "outputs": [],
   "source": [
    "base_treinamento2 = remove_null_over(base_train,over_porc=0.25)"
   ]
  },
  {
   "cell_type": "code",
   "execution_count": null,
   "metadata": {},
   "outputs": [],
   "source": [
    "pre_proce = PreProcessamento(base_treinamento2)"
   ]
  },
  {
   "cell_type": "code",
   "execution_count": null,
   "metadata": {},
   "outputs": [],
   "source": [
    "base_treinamento2 = pre_proce.apply_method_encoding()"
   ]
  },
  {
   "cell_type": "code",
   "execution_count": null,
   "metadata": {},
   "outputs": [],
   "source": [
    "# base_treinamento2['TARGET']=0"
   ]
  },
  {
   "cell_type": "code",
   "execution_count": null,
   "metadata": {},
   "outputs": [],
   "source": []
  },
  {
   "cell_type": "code",
   "execution_count": null,
   "metadata": {},
   "outputs": [],
   "source": [
    "cols_object  = list(base_treinamento2.select_dtypes(include='object').columns)\n",
    "# base_treinamento3 = pre_proce.padronizacao_dados(base_treinamento2.fillna(-1).drop(cols_object,axis=1))"
   ]
  },
  {
   "cell_type": "code",
   "execution_count": null,
   "metadata": {},
   "outputs": [],
   "source": [
    "base_treinamento2.fillna(-1).drop(cols_object,axis=1).to_csv('base_teste_n_padro.csv',index=False)"
   ]
  },
  {
   "cell_type": "code",
   "execution_count": null,
   "metadata": {},
   "outputs": [],
   "source": [
    "# base_treinamento3.to_csv('data/processed/base_test3.csv',index=False)"
   ]
  },
  {
   "cell_type": "code",
   "execution_count": null,
   "metadata": {},
   "outputs": [],
   "source": [
    "base_treinamento3.head()"
   ]
  },
  {
   "cell_type": "markdown",
   "metadata": {},
   "source": [
    "### Dados Padronizados"
   ]
  },
  {
   "cell_type": "code",
   "execution_count": null,
   "metadata": {},
   "outputs": [],
   "source": [
    "#base_treinamento3.to_csv('data/processed/base_treinamento3.csv',index=False)"
   ]
  },
  {
   "cell_type": "code",
   "execution_count": null,
   "metadata": {},
   "outputs": [],
   "source": [
    "base_teste3 = pd.read_csv('base_teste_n_padro.csv')"
   ]
  },
  {
   "cell_type": "code",
   "execution_count": null,
   "metadata": {},
   "outputs": [],
   "source": [
    "base_treinamento3 = pd.read_csv('base_treinamento_n_padro.csv')"
   ]
  },
  {
   "cell_type": "code",
   "execution_count": null,
   "metadata": {},
   "outputs": [],
   "source": [
    "def retira_colunas_na(columns):\n",
    "    return [col for col in columns if 'NA' not in col]"
   ]
  },
  {
   "cell_type": "code",
   "execution_count": null,
   "metadata": {},
   "outputs": [],
   "source": [
    "base_teste3['TARGET'] = 0"
   ]
  },
  {
   "cell_type": "code",
   "execution_count": null,
   "metadata": {},
   "outputs": [],
   "source": [
    "colunas_selecionar = retira_colunas_na(base_teste3.columns)"
   ]
  },
  {
   "cell_type": "code",
   "execution_count": null,
   "metadata": {},
   "outputs": [],
   "source": [
    "base_teste3 = base_teste3[colunas_selecionar]\n",
    "base_treinamento3 = base_treinamento3[colunas_selecionar]"
   ]
  },
  {
   "cell_type": "code",
   "execution_count": null,
   "metadata": {},
   "outputs": [],
   "source": [
    "base_treinamento3.describe()"
   ]
  },
  {
   "cell_type": "code",
   "execution_count": null,
   "metadata": {},
   "outputs": [],
   "source": [
    "base_teste3.describe()"
   ]
  },
  {
   "cell_type": "code",
   "execution_count": null,
   "metadata": {},
   "outputs": [],
   "source": [
    "pre_proce2 = PreProcessamento(base_treinamento3)\n",
    "#features = pre_proce2.mutual_information(base_treinamento3.drop(['SK_ID_CURR','TARGET'],axis=1),base_treinamento3[['TARGET']])"
   ]
  },
  {
   "cell_type": "code",
   "execution_count": null,
   "metadata": {},
   "outputs": [],
   "source": [
    "colunas_selecionadas = pre_proce2.correlacao_target(base_treinamento3.drop(['SK_ID_CURR','TARGET'],axis=1),base_treinamento3['TARGET'])"
   ]
  },
  {
   "cell_type": "code",
   "execution_count": null,
   "metadata": {},
   "outputs": [],
   "source": [
    "colunas_selecionadas[0:5]"
   ]
  },
  {
   "cell_type": "code",
   "execution_count": null,
   "metadata": {},
   "outputs": [],
   "source": [
    "colunas_selecionadas = pre_proce2.teste_f_classif(base_treinamento3.drop(['SK_ID_CURR','TARGET'],axis=1),base_treinamento3['TARGET'],50)"
   ]
  },
  {
   "cell_type": "code",
   "execution_count": null,
   "metadata": {},
   "outputs": [],
   "source": [
    "colunas_selecionadas += ['SK_ID_CURR','TARGET']\n",
    "base_treinamento4 = base_treinamento3[colunas_selecionadas]\n",
    "base_teste4 = base_teste3[colunas_selecionadas]"
   ]
  },
  {
   "cell_type": "code",
   "execution_count": null,
   "metadata": {},
   "outputs": [],
   "source": [
    "ivs = show_iv(base_treinamento4.fillna(-1))"
   ]
  },
  {
   "cell_type": "code",
   "execution_count": null,
   "metadata": {},
   "outputs": [],
   "source": [
    "correlacao = base_treinamento3[['TARGET', 'prev_AMT_ANNUITY_mean','prev_AMT_ANNUITY_max','prev_AMT_CREDIT_mean','prev_AMT_GOODS_PRICE_mean','prev_DAYS_DECISION_mean','_AMT_CREDIT_SUM_OVERDUE_max']].corr()"
   ]
  },
  {
   "cell_type": "code",
   "execution_count": null,
   "metadata": {},
   "outputs": [],
   "source": [
    "correlacao2 = base_treinamento2[['TARGET']+ vars_bureau[20:]].corr()"
   ]
  },
  {
   "cell_type": "code",
   "execution_count": null,
   "metadata": {},
   "outputs": [],
   "source": [
    "import seaborn as sn\n",
    "sn.heatmap(correlacao, annot = True, fmt=\".1f\", linewidths=.6)"
   ]
  },
  {
   "cell_type": "code",
   "execution_count": null,
   "metadata": {},
   "outputs": [],
   "source": [
    "sn.heatmap(correlacao2, annot = True, fmt=\".1f\", linewidths=.6)"
   ]
  },
  {
   "cell_type": "code",
   "execution_count": null,
   "metadata": {},
   "outputs": [],
   "source": [
    "pre_proce2.check_outliers(base_treinamento4,colunas_selecionadas)"
   ]
  },
  {
   "cell_type": "code",
   "execution_count": null,
   "metadata": {},
   "outputs": [],
   "source": [
    "modelo_kmeans = Modelagem(base_treinamento3.fillna(-1),'TARGET')"
   ]
  },
  {
   "cell_type": "code",
   "execution_count": null,
   "metadata": {},
   "outputs": [],
   "source": [
    "modelo_kmeans.evaluate_values_of_k(5)"
   ]
  },
  {
   "cell_type": "code",
   "execution_count": null,
   "metadata": {},
   "outputs": [],
   "source": [
    "from sklearn.cluster import KMeans\n",
    "\n",
    "kmeans = KMeans(n_clusters = 2)\n",
    "kmeans.fit(base_treinamento3.drop('TARGET',axis=1).fillna(-1))"
   ]
  },
  {
   "cell_type": "code",
   "execution_count": null,
   "metadata": {},
   "outputs": [],
   "source": [
    "base_treinamento3['cluster'] = kmeans.labels_"
   ]
  },
  {
   "cell_type": "code",
   "execution_count": null,
   "metadata": {},
   "outputs": [],
   "source": [
    "base_treinamento3.query('TARGET==1').shape[0]"
   ]
  },
  {
   "cell_type": "code",
   "execution_count": null,
   "metadata": {},
   "outputs": [],
   "source": [
    "base_treinamento3.query('TARGET==1')['cluster'].value_counts()/base_treinamento3.shape[0]"
   ]
  },
  {
   "cell_type": "code",
   "execution_count": null,
   "metadata": {},
   "outputs": [],
   "source": [
    "base_treinamento3['cluster'].value_counts(normalize=True)"
   ]
  },
  {
   "cell_type": "code",
   "execution_count": null,
   "metadata": {},
   "outputs": [],
   "source": [
    "def manter_alnum(s):\n",
    "    return ''.join(e for e in s if e.isalnum() or e=='_')\n",
    "# Aplica a função aos nomes das colunas\n",
    "base_treinamento3.columns = [manter_alnum(col) for col in base_treinamento3.columns]\n",
    "base_teste3.columns = [manter_alnum(col) for col in base_teste3.columns]\n",
    "# base_treinamento4.columns = [manter_alnum(col) for col in base_treinamento4.columns]\n",
    "# base_teste4.columns = [manter_alnum(col) for col in base_teste4.columns]"
   ]
  },
  {
   "cell_type": "markdown",
   "metadata": {},
   "source": [
    "parametros = {\n",
    "    # 'objective': ['binary'],\n",
    "    # 'boosting_type': ['rf'],\n",
    "    'min_data_in_leaf':[500,1000,2000],\n",
    "    # 'reg_alpha':20,\n",
    "    # 'reg_lambda':18,\n",
    "    'num_leaves': [10,50,100],\n",
    "    'max_depth':[5,10,15],\n",
    "    'n_estimators':[50,100],\n",
    "    'learning_rate': [0.01],\n",
    "    'feature_fraction': [0.7],\n",
    "    'num_iterations':[100],\n",
    "    # 'class_weight':['balanced'],\n",
    "    # 'n_jobs':[5],\n",
    "    # 'random_state' : [0]\n",
    "}\n",
    "parametros = {'n_estimators': 259, 'max_depth': 10, 'learning_rate': 0.24030389094746216, 'num_leaves': 100, 'min_data_in_leaf': 789, 'num_iterations': 57,'feature_fraction': 0.7,'random_state':42,'boosting_type':'rf','class_weight' : 'balanced','reg_alpha': 0}"
   ]
  },
  {
   "cell_type": "code",
   "execution_count": null,
   "metadata": {},
   "outputs": [],
   "source": [
    "modelos_testes = {}\n",
    "parametros_otimizar_lgbm = [\n",
    "    ['n_estimators','int',25,200],\n",
    "    ['max_depth','int',5,50],\n",
    "    ['learning_rate','float',0.001, 0.2],\n",
    "    ['num_leaves','int',50, 200],\n",
    "    ['min_data_in_leaf','int',500, 3000],\n",
    "    ['num_iterations','int',100, 1000],\n",
    "    ['feature_fraction','float',0.3, 1],\n",
    "    ['class_weight','fixo','balanced', None],\n",
    "    ['objective','fixo','binary', None],\n",
    "    ['boosting_type','str','rf', 'gbdt'],\n",
    "    ['metric','fixo','auc', None],\n",
    "    ['verbose','fixo',-1, None]\n",
    "]\n",
    "# model_lgbm.set_model('lgb',{'random_state':42})\n",
    "parametros_otimizar_xgboosting = [\n",
    "    ['n_estimators','int',25,1000],\n",
    "    ['max_depth','int',5,50],\n",
    "    ['learning_rate','float',0.001, 0.2],\n",
    "    ['min_child_weight','int',500, 3000],\n",
    "    ['subsample','float',0.2, 0.9],\n",
    "    ['colsample_bytree','float',0.25, 1],\n",
    "    ['colsample_bytree','float',0.25, 1],\n",
    "    ['eval_metric','fixo','auc', None]\n",
    "    \n",
    "]\n",
    "# model_xgbosting.set_model('xgboost',{'random_state':42})"
   ]
  },
  {
   "cell_type": "code",
   "execution_count": null,
   "metadata": {},
   "outputs": [],
   "source": [
    "# modelos_testes['lgb'] = parametros_otimizar_lgbm\n",
    "modelos_testes['xgboost'] = parametros_otimizar_xgboosting"
   ]
  },
  {
   "cell_type": "code",
   "execution_count": null,
   "metadata": {},
   "outputs": [],
   "source": [
    "modelos_testes"
   ]
  },
  {
   "cell_type": "code",
   "execution_count": null,
   "metadata": {},
   "outputs": [],
   "source": [
    "colunas_selecionar = base_teste3.drop(['SK_ID_CURR','TARGET'],axis=1).columns"
   ]
  },
  {
   "cell_type": "code",
   "execution_count": null,
   "metadata": {},
   "outputs": [],
   "source": [
    "testando_modelos = Testes(modelos_testes,base_treinamento3,colunas_selecionar)"
   ]
  },
  {
   "cell_type": "code",
   "execution_count": null,
   "metadata": {},
   "outputs": [],
   "source": [
    "testando_modelos.executa_simulações(qtd_it_features =10,qtd_iteracoes=50,seletor_features=['anova'])"
   ]
  },
  {
   "cell_type": "code",
   "execution_count": null,
   "metadata": {},
   "outputs": [],
   "source": [
    "parametros_xgb_50f_anova = {'n_estimators': 535,\n",
    "                            'max_depth': 3,\n",
    "                            'learning_rate': 0.1523141406764792,\n",
    "                            'min_child_weight': 509, 'subsample': 0.7625123963152595, 'colsample_bytree': 0.6026256081549887, \n",
    "                            'eval_metric': 'auc','random_state': 42\n",
    "                            }\n",
    "\n",
    "parametros_xgb_180f_anova = {'n_estimators': 996, 'max_depth': 2, 'learning_rate': 0.1917115002208849, 'min_child_weight': 622, 'subsample': 0.8402517375972014, 'colsample_bytree': 0.5278522091753395, 'eval_metric': 'auc', 'random_state': 42}"
   ]
  },
  {
   "cell_type": "code",
   "execution_count": null,
   "metadata": {},
   "outputs": [],
   "source": [
    "pre_proce = PreProcessamento(base_treinamento3[colunas_selecionar])\n",
    "cols_anova = pre_proce.teste_f_classif(base_treinamento3[colunas_selecionar],base_treinamento3['TARGET'])\n",
    "cols_anova = cols_anova[0:180]\n",
    "cols_anova += ['SK_ID_CURR','TARGET']"
   ]
  },
  {
   "cell_type": "code",
   "execution_count": null,
   "metadata": {},
   "outputs": [],
   "source": [
    "model_xgbosting = Modelagem(base_treinamento3[cols_anova].drop('SK_ID_CURR',axis=1),'TARGET')"
   ]
  },
  {
   "cell_type": "code",
   "execution_count": null,
   "metadata": {},
   "outputs": [],
   "source": [
    "model_xgbosting.set_model('xgboost',parametros_xgb_180f_anova)\n",
    "model_xgbosting.train_model()"
   ]
  },
  {
   "cell_type": "code",
   "execution_count": null,
   "metadata": {},
   "outputs": [],
   "source": [
    "base_teste3['TARGET'] = model_xgbosting.model.predict_proba(base_teste3[cols_anova].drop(['SK_ID_CURR','TARGET'],axis=1))[:,1]"
   ]
  },
  {
   "cell_type": "code",
   "execution_count": null,
   "metadata": {},
   "outputs": [],
   "source": [
    "base_teste3[['SK_ID_CURR','TARGET']].to_csv('testando_xgboosting_180.csv',index=False)"
   ]
  },
  {
   "cell_type": "code",
   "execution_count": null,
   "metadata": {},
   "outputs": [],
   "source": []
  },
  {
   "cell_type": "code",
   "execution_count": null,
   "metadata": {},
   "outputs": [],
   "source": [
    "from sklearn.metrics import accuracy_score\n",
    "\n",
    "\n",
    "accuracy_score(model_lgbm.y_train, list(model_lgbm.model.predict(model_lgbm.X_train)))"
   ]
  },
  {
   "cell_type": "code",
   "execution_count": null,
   "metadata": {},
   "outputs": [],
   "source": [
    "exp_model = Explicabilidade_Modelos(model_lgbm.model)\n",
    "exp_model.set_data(model_lgbm.X_train,model_lgbm.y_train,tipo_dado='')"
   ]
  },
  {
   "cell_type": "code",
   "execution_count": null,
   "metadata": {},
   "outputs": [],
   "source": [
    "exp_model.grafico_summary_plot(tipo_dado='')"
   ]
  },
  {
   "cell_type": "code",
   "execution_count": null,
   "metadata": {},
   "outputs": [],
   "source": [
    "exp_model.grafico_force_plot_instances()"
   ]
  },
  {
   "cell_type": "code",
   "execution_count": null,
   "metadata": {},
   "outputs": [],
   "source": [
    "study_lgbm,melhores_param_lgbm = model_lgbm.otimizacao_parametros_optuna(parametros_otimizar_lgbm,num_iteracoes=1000)"
   ]
  },
  {
   "cell_type": "code",
   "execution_count": null,
   "metadata": {},
   "outputs": [],
   "source": [
    "import optuna\n",
    "optuna.visualization.plot_param_importances(study_lgbm)"
   ]
  },
  {
   "cell_type": "code",
   "execution_count": null,
   "metadata": {},
   "outputs": [],
   "source": [
    "melhores_param_lgbm['metric']        = 'auc'\n",
    "melhores_param_lgbm['random_state']  = 42\n",
    "#melhores_param_lgbm['boosting_type'] = 'rf'\n",
    "melhores_param_lgbm['objective']     = 'binary'\n",
    "melhores_param_lgbm['class_weight']  = 'balanced'\n",
    "melhores_param_lgbm"
   ]
  },
  {
   "cell_type": "code",
   "execution_count": null,
   "metadata": {},
   "outputs": [],
   "source": [
    "model_lgbm.set_model('lgb',melhores_param_lgbm)\n",
    "model_lgbm.train_model()"
   ]
  },
  {
   "cell_type": "code",
   "execution_count": null,
   "metadata": {},
   "outputs": [],
   "source": [
    "import shap"
   ]
  },
  {
   "cell_type": "code",
   "execution_count": null,
   "metadata": {},
   "outputs": [],
   "source": [
    "model_lgbm"
   ]
  },
  {
   "cell_type": "code",
   "execution_count": null,
   "metadata": {},
   "outputs": [],
   "source": [
    "base_teste4['TARGET'] = model_lgbm.model.predict_proba(base_teste4.drop(['SK_ID_CURR','TARGET'],axis=1))[:, 1]"
   ]
  },
  {
   "cell_type": "code",
   "execution_count": null,
   "metadata": {},
   "outputs": [],
   "source": [
    "base_teste4[['SK_ID_CURR','TARGET']].to_csv('envio_model_lgbm_50f_N_P_GBDT.csv',index=False)"
   ]
  },
  {
   "cell_type": "code",
   "execution_count": null,
   "metadata": {},
   "outputs": [],
   "source": [
    "parametros_otimizar_xgboosting = [\n",
    "    ['n_estimators','int',25,1000],\n",
    "    ['max_depth','int',5,50],\n",
    "    ['learning_rate','float',0.001, 0.2],\n",
    "    ['min_child_weight','int',500, 3000],\n",
    "    ['subsample','float',0.2, 0.9],\n",
    "    ['colsample_bytree','float',0.25, 1],\n",
    "    ['colsample_bytree','float',0.25, 1],\n",
    "    ['eval_metric','fixo','auc', None],\n",
    "]\n",
    "model_xgbosting.set_model('xgboost',{'random_state':42})"
   ]
  },
  {
   "cell_type": "code",
   "execution_count": null,
   "metadata": {},
   "outputs": [],
   "source": [
    "study_xgb,melhores_param_xgb = model_xgbosting.otimizacao_parametros_optuna(parametros_otimizar_xgboosting,num_iteracoes=100)"
   ]
  },
  {
   "cell_type": "code",
   "execution_count": null,
   "metadata": {},
   "outputs": [],
   "source": [
    "# melhores_param_xgb['eval_metric'] = 'auc'\n",
    "# melhores_param_xgb['random_state'] = 42\n",
    "melhores_param_xgb = {'n_estimators': 970,\n",
    " 'max_depth': 18,\n",
    " 'learning_rate': 0.22589169992824773,\n",
    " 'min_child_weight': 719,\n",
    " 'subsample': 0.8356876344182604,\n",
    " 'colsample_bytree': 0.5516631473198319,\n",
    " 'eval_metric': 'auc',\n",
    " 'random_state': 42}"
   ]
  },
  {
   "cell_type": "code",
   "execution_count": null,
   "metadata": {},
   "outputs": [],
   "source": [
    "model_xgbosting.set_model('xgboost',melhores_param_xgb)\n",
    "model_xgbosting.train_model()"
   ]
  }
 ],
 "metadata": {
  "kernelspec": {
   "display_name": "Python 3",
   "language": "python",
   "name": "python3"
  },
  "language_info": {
   "codemirror_mode": {
    "name": "ipython",
    "version": 3
   },
   "file_extension": ".py",
   "mimetype": "text/x-python",
   "name": "python",
   "nbconvert_exporter": "python",
   "pygments_lexer": "ipython3",
   "version": "3.10.13"
  }
 },
 "nbformat": 4,
 "nbformat_minor": 2
}
