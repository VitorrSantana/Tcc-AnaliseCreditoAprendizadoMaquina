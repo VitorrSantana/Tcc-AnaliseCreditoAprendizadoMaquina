{
 "cells": [
  {
   "cell_type": "markdown",
   "metadata": {},
   "source": [
    "## 1 Configurações Iniciais"
   ]
  },
  {
   "cell_type": "code",
   "execution_count": null,
   "metadata": {},
   "outputs": [],
   "source": [
    "# !pip3 install -r requirements.txt"
   ]
  },
  {
   "cell_type": "code",
   "execution_count": 1,
   "metadata": {},
   "outputs": [],
   "source": [
    "from config import DIRETORIO\n",
    "from config import DIR_BASE_APLICAT_TRAIN\n",
    "from config import DIR_BASE_APLICAT_TEST\n",
    "from config import DIR_BASE_BUREAU\n",
    "from config import DIR_BASE_BUREAU_BALAN\n",
    "from config import DIR_BASE_CRED_CARD_BAL\n",
    "from config import DIR_BASE_INSTAL_PAYAME\n",
    "from config import DIR_BASE_POS_CASH_BALA\n",
    "from config import DIR_BASE_PREVIOUS_APP"
   ]
  },
  {
   "cell_type": "code",
   "execution_count": 2,
   "metadata": {},
   "outputs": [
    {
     "name": "stderr",
     "output_type": "stream",
     "text": [
      "/home/vitor/anaconda3/envs/env_tcc/lib/python3.10/site-packages/tqdm/auto.py:21: TqdmWarning: IProgress not found. Please update jupyter and ipywidgets. See https://ipywidgets.readthedocs.io/en/stable/user_install.html\n",
      "  from .autonotebook import tqdm as notebook_tqdm\n"
     ]
    }
   ],
   "source": [
    "import matplotlib.pyplot as plt\n",
    "import pandas            as pd\n",
    "import numpy             as np\n",
    "import seaborn           as sn\n",
    "import warnings\n",
    "\n",
    "from src.pre_processamento.PreProcessamento import PreProcessamento\n",
    "from src.modelagem.Modelagem                import Modelagem\n",
    "from src.modelagem.Testes                   import Testes\n",
    "from src.pre_processamento.utils            import * "
   ]
  },
  {
   "cell_type": "code",
   "execution_count": 3,
   "metadata": {},
   "outputs": [],
   "source": [
    "pd.set_option('display.max_columns',200)\n",
    "pd.set_option('display.max_rows',200)\n",
    "\n",
    "warnings.filterwarnings(\"ignore\")"
   ]
  },
  {
   "cell_type": "code",
   "execution_count": null,
   "metadata": {},
   "outputs": [],
   "source": [
    "base_train  = pd.read_csv(DIR_BASE_APLICAT_TEST)\n",
    "base_bureau = pd.read_csv(DIR_BASE_BUREAU) \n",
    "base_prev   = pd.read_csv(DIR_BASE_PREVIOUS_APP) "
   ]
  },
  {
   "cell_type": "code",
   "execution_count": null,
   "metadata": {},
   "outputs": [],
   "source": [
    "base_train.isna().sum()/base_train.shape[0]"
   ]
  },
  {
   "cell_type": "code",
   "execution_count": null,
   "metadata": {},
   "outputs": [],
   "source": [
    "base_train.isna().sum()/base_train.shape[0]"
   ]
  },
  {
   "cell_type": "code",
   "execution_count": null,
   "metadata": {},
   "outputs": [],
   "source": [
    "base_prev['NAME_CONTRACT_TYPE'].value_counts()"
   ]
  },
  {
   "cell_type": "code",
   "execution_count": null,
   "metadata": {},
   "outputs": [],
   "source": [
    "base_prev_variaveis_numeric = create_vars_numeric(base_prev,cols_drop=['SK_ID_CURR','SK_ID_PREV'],remove_null=0.25,prefixo='prev')"
   ]
  },
  {
   "cell_type": "code",
   "execution_count": null,
   "metadata": {},
   "outputs": [],
   "source": [
    "base_prev_variaveis_numeric"
   ]
  },
  {
   "cell_type": "code",
   "execution_count": null,
   "metadata": {},
   "outputs": [],
   "source": [
    "base_bureau_variaveis = create_vars_numeric(base_bureau)"
   ]
  },
  {
   "cell_type": "code",
   "execution_count": null,
   "metadata": {},
   "outputs": [],
   "source": [
    "# SK_ID_CURR\n",
    "base_train = base_train.merge(base_bureau_variaveis,how='left',on=['SK_ID_CURR'])"
   ]
  },
  {
   "cell_type": "code",
   "execution_count": null,
   "metadata": {},
   "outputs": [],
   "source": [
    "base_train = base_train.merge(base_prev_variaveis_numeric,how='left',on=['SK_ID_CURR'])"
   ]
  },
  {
   "cell_type": "code",
   "execution_count": null,
   "metadata": {},
   "outputs": [],
   "source": [
    "base_treinamento2 = remove_null_over(base_train,over_porc=0.25)"
   ]
  },
  {
   "cell_type": "code",
   "execution_count": null,
   "metadata": {},
   "outputs": [],
   "source": [
    "pre_proce = PreProcessamento(base_treinamento2)"
   ]
  },
  {
   "cell_type": "code",
   "execution_count": null,
   "metadata": {},
   "outputs": [],
   "source": [
    "base_treinamento2 = pre_proce.apply_method_encoding()"
   ]
  },
  {
   "cell_type": "code",
   "execution_count": null,
   "metadata": {},
   "outputs": [],
   "source": [
    "# base_treinamento2['TARGET']=0"
   ]
  },
  {
   "cell_type": "code",
   "execution_count": null,
   "metadata": {},
   "outputs": [],
   "source": []
  },
  {
   "cell_type": "code",
   "execution_count": null,
   "metadata": {},
   "outputs": [],
   "source": [
    "cols_object  = list(base_treinamento2.select_dtypes(include='object').columns)\n",
    "# base_treinamento3 = pre_proce.padronizacao_dados(base_treinamento2.fillna(-1).drop(cols_object,axis=1))"
   ]
  },
  {
   "cell_type": "code",
   "execution_count": null,
   "metadata": {},
   "outputs": [],
   "source": [
    "base_treinamento2.fillna(-1).drop(cols_object,axis=1).to_csv('base_teste_n_padro.csv',index=False)"
   ]
  },
  {
   "cell_type": "code",
   "execution_count": null,
   "metadata": {},
   "outputs": [],
   "source": [
    "# base_treinamento3.to_csv('data/processed/base_test3.csv',index=False)"
   ]
  },
  {
   "cell_type": "code",
   "execution_count": null,
   "metadata": {},
   "outputs": [],
   "source": [
    "base_treinamento3.head()"
   ]
  },
  {
   "cell_type": "markdown",
   "metadata": {},
   "source": [
    "### Dados Padronizados"
   ]
  },
  {
   "cell_type": "code",
   "execution_count": null,
   "metadata": {},
   "outputs": [],
   "source": [
    "#base_treinamento3.to_csv('data/processed/base_treinamento3.csv',index=False)"
   ]
  },
  {
   "cell_type": "code",
   "execution_count": 5,
   "metadata": {},
   "outputs": [],
   "source": [
    "base_teste3 = pd.read_csv('base_teste_n_padro.csv')"
   ]
  },
  {
   "cell_type": "code",
   "execution_count": 6,
   "metadata": {},
   "outputs": [],
   "source": [
    "base_treinamento3 = pd.read_csv('base_treinamento_n_padro.csv')"
   ]
  },
  {
   "cell_type": "code",
   "execution_count": 7,
   "metadata": {},
   "outputs": [],
   "source": [
    "def retira_colunas_na(columns):\n",
    "    return [col for col in columns if 'NA' not in col]"
   ]
  },
  {
   "cell_type": "code",
   "execution_count": 8,
   "metadata": {},
   "outputs": [],
   "source": [
    "base_teste3['TARGET'] = 0"
   ]
  },
  {
   "cell_type": "code",
   "execution_count": 9,
   "metadata": {},
   "outputs": [],
   "source": [
    "colunas_selecionar = retira_colunas_na(base_teste3.columns)"
   ]
  },
  {
   "cell_type": "code",
   "execution_count": 10,
   "metadata": {},
   "outputs": [],
   "source": [
    "base_teste3 = base_teste3[colunas_selecionar]\n",
    "base_treinamento3 = base_treinamento3[colunas_selecionar]"
   ]
  },
  {
   "cell_type": "code",
   "execution_count": null,
   "metadata": {},
   "outputs": [],
   "source": [
    "base_treinamento3.describe()"
   ]
  },
  {
   "cell_type": "code",
   "execution_count": null,
   "metadata": {},
   "outputs": [],
   "source": [
    "base_teste3.describe()"
   ]
  },
  {
   "cell_type": "code",
   "execution_count": null,
   "metadata": {},
   "outputs": [],
   "source": [
    "pre_proce2 = PreProcessamento(base_treinamento3)\n",
    "#features = pre_proce2.mutual_information(base_treinamento3.drop(['SK_ID_CURR','TARGET'],axis=1),base_treinamento3[['TARGET']])"
   ]
  },
  {
   "cell_type": "code",
   "execution_count": null,
   "metadata": {},
   "outputs": [],
   "source": [
    "colunas_selecionadas = pre_proce2.correlacao_target(base_treinamento3.drop(['SK_ID_CURR','TARGET'],axis=1),base_treinamento3['TARGET'])"
   ]
  },
  {
   "cell_type": "code",
   "execution_count": null,
   "metadata": {},
   "outputs": [],
   "source": [
    "colunas_selecionadas[0:5]"
   ]
  },
  {
   "cell_type": "code",
   "execution_count": null,
   "metadata": {},
   "outputs": [],
   "source": [
    "colunas_selecionadas = pre_proce2.teste_f_classif(base_treinamento3.drop(['SK_ID_CURR','TARGET'],axis=1),base_treinamento3['TARGET'],50)"
   ]
  },
  {
   "cell_type": "code",
   "execution_count": null,
   "metadata": {},
   "outputs": [],
   "source": [
    "colunas_selecionadas += ['SK_ID_CURR','TARGET']\n",
    "base_treinamento4 = base_treinamento3[colunas_selecionadas]\n",
    "base_teste4 = base_teste3[colunas_selecionadas]"
   ]
  },
  {
   "cell_type": "code",
   "execution_count": null,
   "metadata": {},
   "outputs": [],
   "source": [
    "ivs = show_iv(base_treinamento4.fillna(-1))"
   ]
  },
  {
   "cell_type": "code",
   "execution_count": null,
   "metadata": {},
   "outputs": [],
   "source": [
    "correlacao = base_treinamento3[['TARGET', 'prev_AMT_ANNUITY_mean','prev_AMT_ANNUITY_max','prev_AMT_CREDIT_mean','prev_AMT_GOODS_PRICE_mean','prev_DAYS_DECISION_mean','_AMT_CREDIT_SUM_OVERDUE_max']].corr()"
   ]
  },
  {
   "cell_type": "code",
   "execution_count": null,
   "metadata": {},
   "outputs": [],
   "source": [
    "correlacao2 = base_treinamento2[['TARGET']+ vars_bureau[20:]].corr()"
   ]
  },
  {
   "cell_type": "code",
   "execution_count": null,
   "metadata": {},
   "outputs": [],
   "source": [
    "import seaborn as sn\n",
    "sn.heatmap(correlacao, annot = True, fmt=\".1f\", linewidths=.6)"
   ]
  },
  {
   "cell_type": "code",
   "execution_count": null,
   "metadata": {},
   "outputs": [],
   "source": [
    "sn.heatmap(correlacao2, annot = True, fmt=\".1f\", linewidths=.6)"
   ]
  },
  {
   "cell_type": "code",
   "execution_count": null,
   "metadata": {},
   "outputs": [],
   "source": [
    "pre_proce2.check_outliers(base_treinamento4,colunas_selecionadas)"
   ]
  },
  {
   "cell_type": "code",
   "execution_count": null,
   "metadata": {},
   "outputs": [],
   "source": [
    "modelo_kmeans = Modelagem(base_treinamento3.fillna(-1),'TARGET')"
   ]
  },
  {
   "cell_type": "code",
   "execution_count": null,
   "metadata": {},
   "outputs": [],
   "source": [
    "modelo_kmeans.evaluate_values_of_k(5)"
   ]
  },
  {
   "cell_type": "code",
   "execution_count": null,
   "metadata": {},
   "outputs": [],
   "source": [
    "from sklearn.cluster import KMeans\n",
    "\n",
    "kmeans = KMeans(n_clusters = 2)\n",
    "kmeans.fit(base_treinamento3.drop('TARGET',axis=1).fillna(-1))"
   ]
  },
  {
   "cell_type": "code",
   "execution_count": null,
   "metadata": {},
   "outputs": [],
   "source": [
    "base_treinamento3['cluster'] = kmeans.labels_"
   ]
  },
  {
   "cell_type": "code",
   "execution_count": null,
   "metadata": {},
   "outputs": [],
   "source": [
    "base_treinamento3.query('TARGET==1').shape[0]"
   ]
  },
  {
   "cell_type": "code",
   "execution_count": null,
   "metadata": {},
   "outputs": [],
   "source": [
    "base_treinamento3.query('TARGET==1')['cluster'].value_counts()/base_treinamento3.shape[0]"
   ]
  },
  {
   "cell_type": "code",
   "execution_count": null,
   "metadata": {},
   "outputs": [],
   "source": [
    "base_treinamento3['cluster'].value_counts(normalize=True)"
   ]
  },
  {
   "cell_type": "code",
   "execution_count": 11,
   "metadata": {},
   "outputs": [],
   "source": [
    "def manter_alnum(s):\n",
    "    return ''.join(e for e in s if e.isalnum() or e=='_')\n",
    "# Aplica a função aos nomes das colunas\n",
    "base_treinamento3.columns = [manter_alnum(col) for col in base_treinamento3.columns]\n",
    "base_teste3.columns = [manter_alnum(col) for col in base_teste3.columns]\n",
    "# base_treinamento4.columns = [manter_alnum(col) for col in base_treinamento4.columns]\n",
    "# base_teste4.columns = [manter_alnum(col) for col in base_teste4.columns]"
   ]
  },
  {
   "cell_type": "markdown",
   "metadata": {},
   "source": [
    "parametros = {\n",
    "    # 'objective': ['binary'],\n",
    "    # 'boosting_type': ['rf'],\n",
    "    'min_data_in_leaf':[500,1000,2000],\n",
    "    # 'reg_alpha':20,\n",
    "    # 'reg_lambda':18,\n",
    "    'num_leaves': [10,50,100],\n",
    "    'max_depth':[5,10,15],\n",
    "    'n_estimators':[50,100],\n",
    "    'learning_rate': [0.01],\n",
    "    'feature_fraction': [0.7],\n",
    "    'num_iterations':[100],\n",
    "    # 'class_weight':['balanced'],\n",
    "    # 'n_jobs':[5],\n",
    "    # 'random_state' : [0]\n",
    "}\n",
    "parametros = {'n_estimators': 259, 'max_depth': 10, 'learning_rate': 0.24030389094746216, 'num_leaves': 100, 'min_data_in_leaf': 789, 'num_iterations': 57,'feature_fraction': 0.7,'random_state':42,'boosting_type':'rf','class_weight' : 'balanced','reg_alpha': 0}"
   ]
  },
  {
   "cell_type": "code",
   "execution_count": 12,
   "metadata": {},
   "outputs": [],
   "source": [
    "modelos_testes = {}\n",
    "parametros_otimizar_lgbm = [\n",
    "    ['n_estimators','int',25,200],\n",
    "    ['max_depth','int',5,50],\n",
    "    ['learning_rate','float',0.001, 0.2],\n",
    "    ['num_leaves','int',50, 200],\n",
    "    ['min_data_in_leaf','int',500, 3000],\n",
    "    ['num_iterations','int',100, 1000],\n",
    "    ['feature_fraction','float',0.3, 1],\n",
    "    ['class_weight','fixo','balanced', None],\n",
    "    ['objective','fixo','binary', None],\n",
    "    ['boosting_type','str','rf', 'gbdt'],\n",
    "    ['metric','fixo','auc', None],\n",
    "    ['verbose','fixo',-1, None]\n",
    "]\n",
    "# model_lgbm.set_model('lgb',{'random_state':42})\n",
    "parametros_otimizar_xgboosting = [\n",
    "    ['n_estimators','int',25,1000],\n",
    "    ['max_depth','int',5,50],\n",
    "    ['learning_rate','float',0.001, 0.2],\n",
    "    ['min_child_weight','int',500, 3000],\n",
    "    ['subsample','float',0.2, 0.9],\n",
    "    ['colsample_bytree','float',0.25, 1],\n",
    "    ['colsample_bytree','float',0.25, 1],\n",
    "    ['eval_metric','fixo','auc', None]\n",
    "    \n",
    "]\n",
    "# model_xgbosting.set_model('xgboost',{'random_state':42})"
   ]
  },
  {
   "cell_type": "code",
   "execution_count": 13,
   "metadata": {},
   "outputs": [],
   "source": [
    "# modelos_testes['lgb'] = parametros_otimizar_lgbm\n",
    "modelos_testes['xgboost'] = parametros_otimizar_xgboosting"
   ]
  },
  {
   "cell_type": "code",
   "execution_count": 14,
   "metadata": {},
   "outputs": [
    {
     "data": {
      "text/plain": [
       "{'xgboost': [['n_estimators', 'int', 25, 1000],\n",
       "  ['max_depth', 'int', 5, 50],\n",
       "  ['learning_rate', 'float', 0.001, 0.2],\n",
       "  ['min_child_weight', 'int', 500, 3000],\n",
       "  ['subsample', 'float', 0.2, 0.9],\n",
       "  ['colsample_bytree', 'float', 0.25, 1],\n",
       "  ['colsample_bytree', 'float', 0.25, 1],\n",
       "  ['eval_metric', 'fixo', 'auc', None]]}"
      ]
     },
     "execution_count": 14,
     "metadata": {},
     "output_type": "execute_result"
    }
   ],
   "source": [
    "modelos_testes"
   ]
  },
  {
   "cell_type": "code",
   "execution_count": 15,
   "metadata": {},
   "outputs": [],
   "source": [
    "colunas_selecionar = base_treinamento3.drop(['SK_ID_CURR','TARGET'],axis=1).columns"
   ]
  },
  {
   "cell_type": "code",
   "execution_count": 16,
   "metadata": {},
   "outputs": [],
   "source": [
    "testando_modelos = Testes(modelos_testes,base_treinamento3,colunas_selecionar)"
   ]
  },
  {
   "cell_type": "code",
   "execution_count": 17,
   "metadata": {},
   "outputs": [
    {
     "name": "stdout",
     "output_type": "stream",
     "text": [
      "[91]\tvalidation_0-auc:0.72258\n",
      "[92]\tvalidation_0-auc:0.72261\n",
      "[93]\tvalidation_0-auc:0.72258\n",
      "[94]\tvalidation_0-auc:0.72261\n",
      "[95]\tvalidation_0-auc:0.72260\n",
      "[96]\tvalidation_0-auc:0.72268\n",
      "[97]\tvalidation_0-auc:0.72269\n",
      "[98]\tvalidation_0-auc:0.72276\n",
      "[99]\tvalidation_0-auc:0.72278\n",
      "[100]\tvalidation_0-auc:0.72283\n",
      "[101]\tvalidation_0-auc:0.72283\n",
      "[102]\tvalidation_0-auc:0.72281\n",
      "[103]\tvalidation_0-auc:0.72286\n",
      "[104]\tvalidation_0-auc:0.72285\n",
      "[105]\tvalidation_0-auc:0.72284\n",
      "[106]\tvalidation_0-auc:0.72282\n",
      "[107]\tvalidation_0-auc:0.72284\n",
      "[108]\tvalidation_0-auc:0.72290\n",
      "[109]\tvalidation_0-auc:0.72289\n",
      "[110]\tvalidation_0-auc:0.72295\n",
      "[111]\tvalidation_0-auc:0.72298\n",
      "[112]\tvalidation_0-auc:0.72298\n",
      "[113]\tvalidation_0-auc:0.72298\n",
      "[114]\tvalidation_0-auc:0.72302\n",
      "[115]\tvalidation_0-auc:0.72304\n",
      "[116]\tvalidation_0-auc:0.72303\n",
      "[117]\tvalidation_0-auc:0.72301\n",
      "[118]\tvalidation_0-auc:0.72305\n",
      "[119]\tvalidation_0-auc:0.72312\n",
      "[120]\tvalidation_0-auc:0.72315\n",
      "[121]\tvalidation_0-auc:0.72316\n",
      "[122]\tvalidation_0-auc:0.72317\n",
      "[123]\tvalidation_0-auc:0.72316\n",
      "[124]\tvalidation_0-auc:0.72316\n",
      "[125]\tvalidation_0-auc:0.72316\n",
      "[126]\tvalidation_0-auc:0.72316\n",
      "[127]\tvalidation_0-auc:0.72319\n",
      "[128]\tvalidation_0-auc:0.72323\n",
      "[129]\tvalidation_0-auc:0.72321\n",
      "[130]\tvalidation_0-auc:0.72325\n",
      "[131]\tvalidation_0-auc:0.72325\n",
      "[132]\tvalidation_0-auc:0.72330\n",
      "[133]\tvalidation_0-auc:0.72330\n",
      "[134]\tvalidation_0-auc:0.72334\n",
      "[135]\tvalidation_0-auc:0.72338\n",
      "[136]\tvalidation_0-auc:0.72339\n",
      "[137]\tvalidation_0-auc:0.72337\n",
      "[138]\tvalidation_0-auc:0.72335\n",
      "[139]\tvalidation_0-auc:0.72335\n",
      "[140]\tvalidation_0-auc:0.72334\n",
      "[141]\tvalidation_0-auc:0.72336\n",
      "[142]\tvalidation_0-auc:0.72340\n",
      "[143]\tvalidation_0-auc:0.72338\n",
      "[144]\tvalidation_0-auc:0.72344\n",
      "[145]\tvalidation_0-auc:0.72343\n",
      "[146]\tvalidation_0-auc:0.72346\n",
      "[147]\tvalidation_0-auc:0.72349\n",
      "[148]\tvalidation_0-auc:0.72350\n",
      "[149]\tvalidation_0-auc:0.72353\n",
      "[150]\tvalidation_0-auc:0.72351\n",
      "[151]\tvalidation_0-auc:0.72355\n",
      "[152]\tvalidation_0-auc:0.72358\n",
      "[153]\tvalidation_0-auc:0.72358\n",
      "[154]\tvalidation_0-auc:0.72359\n",
      "[155]\tvalidation_0-auc:0.72358\n",
      "[156]\tvalidation_0-auc:0.72361\n",
      "[157]\tvalidation_0-auc:0.72360\n",
      "[158]\tvalidation_0-auc:0.72362\n",
      "[159]\tvalidation_0-auc:0.72363\n",
      "[160]\tvalidation_0-auc:0.72365\n",
      "[161]\tvalidation_0-auc:0.72368\n",
      "[162]\tvalidation_0-auc:0.72366\n",
      "[163]\tvalidation_0-auc:0.72366\n",
      "[164]\tvalidation_0-auc:0.72369\n",
      "[165]\tvalidation_0-auc:0.72369\n",
      "[166]\tvalidation_0-auc:0.72372\n",
      "[167]\tvalidation_0-auc:0.72374\n",
      "[168]\tvalidation_0-auc:0.72373\n",
      "[169]\tvalidation_0-auc:0.72375\n",
      "[170]\tvalidation_0-auc:0.72377\n",
      "[171]\tvalidation_0-auc:0.72377\n",
      "[172]\tvalidation_0-auc:0.72377\n",
      "[173]\tvalidation_0-auc:0.72376\n",
      "[174]\tvalidation_0-auc:0.72377\n",
      "[175]\tvalidation_0-auc:0.72379\n",
      "[176]\tvalidation_0-auc:0.72380\n",
      "[177]\tvalidation_0-auc:0.72381\n",
      "[178]\tvalidation_0-auc:0.72381\n",
      "[179]\tvalidation_0-auc:0.72380\n",
      "[180]\tvalidation_0-auc:0.72381\n",
      "[181]\tvalidation_0-auc:0.72381\n",
      "[182]\tvalidation_0-auc:0.72383\n",
      "[183]\tvalidation_0-auc:0.72382\n",
      "[184]\tvalidation_0-auc:0.72385\n",
      "[185]\tvalidation_0-auc:0.72385\n",
      "[186]\tvalidation_0-auc:0.72385\n",
      "[187]\tvalidation_0-auc:0.72385\n",
      "[188]\tvalidation_0-auc:0.72384\n",
      "[189]\tvalidation_0-auc:0.72386\n",
      "[190]\tvalidation_0-auc:0.72386\n",
      "[191]\tvalidation_0-auc:0.72386\n",
      "[192]\tvalidation_0-auc:0.72385\n",
      "[193]\tvalidation_0-auc:0.72388\n",
      "[194]\tvalidation_0-auc:0.72388\n",
      "[195]\tvalidation_0-auc:0.72392\n",
      "[196]\tvalidation_0-auc:0.72392\n",
      "[197]\tvalidation_0-auc:0.72394\n",
      "[198]\tvalidation_0-auc:0.72394\n",
      "[199]\tvalidation_0-auc:0.72396\n",
      "[200]\tvalidation_0-auc:0.72396\n",
      "[201]\tvalidation_0-auc:0.72394\n",
      "[202]\tvalidation_0-auc:0.72392\n",
      "[203]\tvalidation_0-auc:0.72394\n",
      "[204]\tvalidation_0-auc:0.72397\n",
      "[205]\tvalidation_0-auc:0.72396\n",
      "[206]\tvalidation_0-auc:0.72397\n",
      "[207]\tvalidation_0-auc:0.72395\n",
      "[208]\tvalidation_0-auc:0.72397\n",
      "[209]\tvalidation_0-auc:0.72398\n",
      "[210]\tvalidation_0-auc:0.72398\n",
      "[211]\tvalidation_0-auc:0.72399\n",
      "[212]\tvalidation_0-auc:0.72401\n",
      "[213]\tvalidation_0-auc:0.72403\n",
      "[214]\tvalidation_0-auc:0.72403\n",
      "[215]\tvalidation_0-auc:0.72404\n",
      "[216]\tvalidation_0-auc:0.72407\n",
      "[217]\tvalidation_0-auc:0.72407\n",
      "[218]\tvalidation_0-auc:0.72407\n",
      "[219]\tvalidation_0-auc:0.72409\n",
      "[220]\tvalidation_0-auc:0.72409\n",
      "[221]\tvalidation_0-auc:0.72408\n",
      "[222]\tvalidation_0-auc:0.72408\n",
      "[223]\tvalidation_0-auc:0.72410\n",
      "[224]\tvalidation_0-auc:0.72408\n",
      "[225]\tvalidation_0-auc:0.72410\n",
      "[226]\tvalidation_0-auc:0.72410\n",
      "[227]\tvalidation_0-auc:0.72409\n",
      "[228]\tvalidation_0-auc:0.72409\n",
      "[229]\tvalidation_0-auc:0.72409\n",
      "[230]\tvalidation_0-auc:0.72408\n",
      "[231]\tvalidation_0-auc:0.72410\n",
      "[232]\tvalidation_0-auc:0.72408\n",
      "[233]\tvalidation_0-auc:0.72407\n",
      "[234]\tvalidation_0-auc:0.72408\n",
      "[235]\tvalidation_0-auc:0.72410\n",
      "[236]\tvalidation_0-auc:0.72409\n",
      "[237]\tvalidation_0-auc:0.72408\n",
      "[238]\tvalidation_0-auc:0.72411\n",
      "[239]\tvalidation_0-auc:0.72412\n",
      "[240]\tvalidation_0-auc:0.72411\n",
      "[241]\tvalidation_0-auc:0.72411\n",
      "[242]\tvalidation_0-auc:0.72413\n",
      "[243]\tvalidation_0-auc:0.72412\n",
      "[244]\tvalidation_0-auc:0.72415\n",
      "[245]\tvalidation_0-auc:0.72415\n",
      "[246]\tvalidation_0-auc:0.72416\n",
      "[247]\tvalidation_0-auc:0.72417\n",
      "[248]\tvalidation_0-auc:0.72415\n",
      "[249]\tvalidation_0-auc:0.72414\n",
      "[250]\tvalidation_0-auc:0.72415\n",
      "[251]\tvalidation_0-auc:0.72414\n",
      "[252]\tvalidation_0-auc:0.72415\n",
      "[253]\tvalidation_0-auc:0.72415\n",
      "[254]\tvalidation_0-auc:0.72417\n",
      "[255]\tvalidation_0-auc:0.72417\n",
      "[256]\tvalidation_0-auc:0.72419\n",
      "[257]\tvalidation_0-auc:0.72420\n",
      "[258]\tvalidation_0-auc:0.72418\n",
      "[259]\tvalidation_0-auc:0.72420\n",
      "[260]\tvalidation_0-auc:0.72421\n",
      "[261]\tvalidation_0-auc:0.72422\n",
      "[262]\tvalidation_0-auc:0.72423\n",
      "[263]\tvalidation_0-auc:0.72422\n",
      "[264]\tvalidation_0-auc:0.72422\n",
      "[265]\tvalidation_0-auc:0.72423\n",
      "[266]\tvalidation_0-auc:0.72422\n",
      "[267]\tvalidation_0-auc:0.72423\n",
      "[268]\tvalidation_0-auc:0.72422\n",
      "[269]\tvalidation_0-auc:0.72422\n",
      "[270]\tvalidation_0-auc:0.72421\n",
      "[271]\tvalidation_0-auc:0.72419\n",
      "[272]\tvalidation_0-auc:0.72418\n",
      "[273]\tvalidation_0-auc:0.72418\n",
      "[274]\tvalidation_0-auc:0.72419\n",
      "[275]\tvalidation_0-auc:0.72418\n",
      "[276]\tvalidation_0-auc:0.72418\n",
      "[277]\tvalidation_0-auc:0.72418\n",
      "[278]\tvalidation_0-auc:0.72417\n",
      "[279]\tvalidation_0-auc:0.72417\n",
      "[280]\tvalidation_0-auc:0.72418\n",
      "[281]\tvalidation_0-auc:0.72419\n",
      "[282]\tvalidation_0-auc:0.72422\n",
      "[283]\tvalidation_0-auc:0.72423\n",
      "[284]\tvalidation_0-auc:0.72422\n",
      "[285]\tvalidation_0-auc:0.72422\n",
      "[286]\tvalidation_0-auc:0.72422\n",
      "[287]\tvalidation_0-auc:0.72422\n",
      "[288]\tvalidation_0-auc:0.72422\n",
      "[289]\tvalidation_0-auc:0.72422\n",
      "[290]\tvalidation_0-auc:0.72424\n",
      "[291]\tvalidation_0-auc:0.72424\n",
      "[292]\tvalidation_0-auc:0.72426\n",
      "[293]\tvalidation_0-auc:0.72426\n",
      "[294]\tvalidation_0-auc:0.72426\n",
      "[295]\tvalidation_0-auc:0.72425\n",
      "[296]\tvalidation_0-auc:0.72424\n",
      "[297]\tvalidation_0-auc:0.72425\n",
      "[298]\tvalidation_0-auc:0.72426\n",
      "[299]\tvalidation_0-auc:0.72428\n",
      "[300]\tvalidation_0-auc:0.72428\n",
      "[301]\tvalidation_0-auc:0.72429\n",
      "[302]\tvalidation_0-auc:0.72431\n",
      "[303]\tvalidation_0-auc:0.72433\n",
      "[304]\tvalidation_0-auc:0.72433\n",
      "[305]\tvalidation_0-auc:0.72433\n",
      "[306]\tvalidation_0-auc:0.72433\n",
      "[307]\tvalidation_0-auc:0.72433\n",
      "[308]\tvalidation_0-auc:0.72432\n",
      "[309]\tvalidation_0-auc:0.72432\n",
      "[310]\tvalidation_0-auc:0.72431\n",
      "[311]\tvalidation_0-auc:0.72432\n",
      "[312]\tvalidation_0-auc:0.72433\n",
      "[313]\tvalidation_0-auc:0.72433\n",
      "[314]\tvalidation_0-auc:0.72433\n",
      "[315]\tvalidation_0-auc:0.72433\n",
      "[316]\tvalidation_0-auc:0.72435\n",
      "[317]\tvalidation_0-auc:0.72436\n",
      "[318]\tvalidation_0-auc:0.72436\n",
      "[319]\tvalidation_0-auc:0.72436\n",
      "[320]\tvalidation_0-auc:0.72435\n",
      "[321]\tvalidation_0-auc:0.72436\n",
      "[322]\tvalidation_0-auc:0.72436\n",
      "[323]\tvalidation_0-auc:0.72437\n",
      "[324]\tvalidation_0-auc:0.72437\n",
      "[325]\tvalidation_0-auc:0.72436\n",
      "[326]\tvalidation_0-auc:0.72437\n",
      "[327]\tvalidation_0-auc:0.72436\n",
      "[328]\tvalidation_0-auc:0.72437\n",
      "[329]\tvalidation_0-auc:0.72436\n",
      "[330]\tvalidation_0-auc:0.72438\n",
      "[331]\tvalidation_0-auc:0.72437\n",
      "[332]\tvalidation_0-auc:0.72438\n",
      "[333]\tvalidation_0-auc:0.72437\n",
      "[334]\tvalidation_0-auc:0.72436\n",
      "[335]\tvalidation_0-auc:0.72435\n",
      "[336]\tvalidation_0-auc:0.72434\n",
      "[337]\tvalidation_0-auc:0.72435\n",
      "[338]\tvalidation_0-auc:0.72437\n",
      "[339]\tvalidation_0-auc:0.72440\n",
      "[340]\tvalidation_0-auc:0.72440\n",
      "[341]\tvalidation_0-auc:0.72441\n",
      "[342]\tvalidation_0-auc:0.72440\n",
      "[343]\tvalidation_0-auc:0.72442\n",
      "[344]\tvalidation_0-auc:0.72441\n",
      "[345]\tvalidation_0-auc:0.72440\n",
      "[346]\tvalidation_0-auc:0.72441\n",
      "[347]\tvalidation_0-auc:0.72442\n",
      "[348]\tvalidation_0-auc:0.72442\n",
      "[349]\tvalidation_0-auc:0.72442\n",
      "[350]\tvalidation_0-auc:0.72442\n",
      "[351]\tvalidation_0-auc:0.72443\n",
      "[352]\tvalidation_0-auc:0.72443\n",
      "[353]\tvalidation_0-auc:0.72443\n",
      "[354]\tvalidation_0-auc:0.72443\n",
      "[355]\tvalidation_0-auc:0.72444\n",
      "[356]\tvalidation_0-auc:0.72444\n",
      "[357]\tvalidation_0-auc:0.72444\n",
      "[358]\tvalidation_0-auc:0.72444\n",
      "[359]\tvalidation_0-auc:0.72444\n",
      "[360]\tvalidation_0-auc:0.72446\n",
      "[361]\tvalidation_0-auc:0.72445\n",
      "[362]\tvalidation_0-auc:0.72447\n",
      "[363]\tvalidation_0-auc:0.72447\n",
      "[364]\tvalidation_0-auc:0.72447\n",
      "[365]\tvalidation_0-auc:0.72448\n",
      "[366]\tvalidation_0-auc:0.72449\n",
      "[367]\tvalidation_0-auc:0.72449\n",
      "[368]\tvalidation_0-auc:0.72449\n",
      "[369]\tvalidation_0-auc:0.72450\n",
      "[370]\tvalidation_0-auc:0.72451\n",
      "[371]\tvalidation_0-auc:0.72451\n",
      "[372]\tvalidation_0-auc:0.72450\n",
      "[373]\tvalidation_0-auc:0.72451\n",
      "[374]\tvalidation_0-auc:0.72451\n",
      "[375]\tvalidation_0-auc:0.72452\n",
      "[376]\tvalidation_0-auc:0.72454\n",
      "[377]\tvalidation_0-auc:0.72454\n",
      "[378]\tvalidation_0-auc:0.72455\n",
      "[379]\tvalidation_0-auc:0.72456\n",
      "[380]\tvalidation_0-auc:0.72457\n",
      "[381]\tvalidation_0-auc:0.72457\n",
      "[382]\tvalidation_0-auc:0.72458\n",
      "[383]\tvalidation_0-auc:0.72459\n",
      "[384]\tvalidation_0-auc:0.72458\n",
      "[385]\tvalidation_0-auc:0.72459\n",
      "[386]\tvalidation_0-auc:0.72459\n",
      "[387]\tvalidation_0-auc:0.72460\n",
      "[388]\tvalidation_0-auc:0.72458\n",
      "[389]\tvalidation_0-auc:0.72458\n",
      "[390]\tvalidation_0-auc:0.72457\n"
     ]
    },
    {
     "name": "stderr",
     "output_type": "stream",
     "text": [
      "[I 2024-03-03 11:30:52,483] Trial 4 finished with value: 0.7245989824533383 and parameters: {'n_estimators': 391, 'max_depth': 39, 'learning_rate': 0.11259126194182802, 'min_child_weight': 2597, 'subsample': 0.767297634358552, 'colsample_bytree': 0.723259757660902}. Best is trial 0 with value: 0.7248962185200226.\n"
     ]
    },
    {
     "name": "stdout",
     "output_type": "stream",
     "text": [
      "A AUC ROC DO TESTE FOI >>> 0.7245989824533383\n",
      "{'n_estimators': 519, 'max_depth': 10, 'learning_rate': 0.13223452090678295, 'min_child_weight': 1539, 'subsample': 0.7003915370854243, 'colsample_bytree': 0.9624750056582582, 'eval_metric': 'auc', 'random_state': 42}\n",
      "[0]\tvalidation_0-auc:0.68835\n",
      "[1]\tvalidation_0-auc:0.69468\n",
      "[2]\tvalidation_0-auc:0.69674\n",
      "[3]\tvalidation_0-auc:0.70052\n",
      "[4]\tvalidation_0-auc:0.70386\n",
      "[5]\tvalidation_0-auc:0.70429\n",
      "[6]\tvalidation_0-auc:0.70458\n",
      "[7]\tvalidation_0-auc:0.70835\n",
      "[8]\tvalidation_0-auc:0.71026\n",
      "[9]\tvalidation_0-auc:0.71085\n",
      "[10]\tvalidation_0-auc:0.71108\n",
      "[11]\tvalidation_0-auc:0.71201\n",
      "[12]\tvalidation_0-auc:0.71499\n",
      "[13]\tvalidation_0-auc:0.71569\n",
      "[14]\tvalidation_0-auc:0.71643\n",
      "[15]\tvalidation_0-auc:0.71766\n",
      "[16]\tvalidation_0-auc:0.71793\n",
      "[17]\tvalidation_0-auc:0.71822\n",
      "[18]\tvalidation_0-auc:0.71985\n",
      "[19]\tvalidation_0-auc:0.72021\n",
      "[20]\tvalidation_0-auc:0.72043\n",
      "[21]\tvalidation_0-auc:0.72068\n"
     ]
    }
   ],
   "source": [
    "warnings.filterwarnings(\"ignore\")\n",
    "testando_modelos.executa_simulações(qtd_it_features =10,qtd_iteracoes=50,seletor_features=['anova'])"
   ]
  },
  {
   "cell_type": "code",
   "execution_count": null,
   "metadata": {},
   "outputs": [],
   "source": [
    "for idx_feature in range(0,182-9,10):\n",
    "    print(f'{0} - {idx_feature+10}')"
   ]
  },
  {
   "cell_type": "code",
   "execution_count": null,
   "metadata": {},
   "outputs": [],
   "source": [
    "182/10"
   ]
  },
  {
   "cell_type": "code",
   "execution_count": null,
   "metadata": {},
   "outputs": [],
   "source": [
    "study_lgbm,melhores_param_lgbm = model_lgbm.otimizacao_parametros_optuna(parametros_otimizar_lgbm,num_iteracoes=1000)"
   ]
  },
  {
   "cell_type": "code",
   "execution_count": null,
   "metadata": {},
   "outputs": [],
   "source": [
    "import optuna\n",
    "optuna.visualization.plot_param_importances(study_lgbm)"
   ]
  },
  {
   "cell_type": "code",
   "execution_count": null,
   "metadata": {},
   "outputs": [],
   "source": [
    "melhores_param_lgbm['metric']        = 'auc'\n",
    "melhores_param_lgbm['random_state']  = 42\n",
    "#melhores_param_lgbm['boosting_type'] = 'rf'\n",
    "melhores_param_lgbm['objective']     = 'binary'\n",
    "melhores_param_lgbm['class_weight']  = 'balanced'\n",
    "melhores_param_lgbm"
   ]
  },
  {
   "cell_type": "code",
   "execution_count": null,
   "metadata": {},
   "outputs": [],
   "source": [
    "model_lgbm.set_model('lgb',melhores_param_lgbm)\n",
    "model_lgbm.train_model()"
   ]
  },
  {
   "cell_type": "code",
   "execution_count": null,
   "metadata": {},
   "outputs": [],
   "source": [
    "import shap"
   ]
  },
  {
   "cell_type": "code",
   "execution_count": null,
   "metadata": {},
   "outputs": [],
   "source": [
    "model_lgbm"
   ]
  },
  {
   "cell_type": "code",
   "execution_count": null,
   "metadata": {},
   "outputs": [],
   "source": [
    "base_teste4['TARGET'] = model_lgbm.model.predict_proba(base_teste4.drop(['SK_ID_CURR','TARGET'],axis=1))[:, 1]"
   ]
  },
  {
   "cell_type": "code",
   "execution_count": null,
   "metadata": {},
   "outputs": [],
   "source": [
    "base_teste4[['SK_ID_CURR','TARGET']].to_csv('envio_model_lgbm_50f_N_P_GBDT.csv',index=False)"
   ]
  },
  {
   "cell_type": "code",
   "execution_count": null,
   "metadata": {},
   "outputs": [],
   "source": [
    "parametros_otimizar_xgboosting = [\n",
    "    ['n_estimators','int',25,1000],\n",
    "    ['max_depth','int',5,50],\n",
    "    ['learning_rate','float',0.001, 0.2],\n",
    "    ['min_child_weight','int',500, 3000],\n",
    "    ['subsample','float',0.2, 0.9],\n",
    "    ['colsample_bytree','float',0.25, 1],\n",
    "    ['colsample_bytree','float',0.25, 1],\n",
    "    ['eval_metric','fixo','auc', None],\n",
    "]\n",
    "model_xgbosting.set_model('xgboost',{'random_state':42})"
   ]
  },
  {
   "cell_type": "code",
   "execution_count": null,
   "metadata": {},
   "outputs": [],
   "source": [
    "study_xgb,melhores_param_xgb = model_xgbosting.otimizacao_parametros_optuna(parametros_otimizar_xgboosting,num_iteracoes=100)"
   ]
  },
  {
   "cell_type": "code",
   "execution_count": null,
   "metadata": {},
   "outputs": [],
   "source": [
    "# melhores_param_xgb['eval_metric'] = 'auc'\n",
    "# melhores_param_xgb['random_state'] = 42\n",
    "melhores_param_xgb\n",
    "# = {'n_estimators': 970,\n",
    "#  'max_depth': 18,\n",
    "#  'learning_rate': 0.22589169992824773,\n",
    "#  'min_child_weight': 719,\n",
    "#  'subsample': 0.8356876344182604,\n",
    "#  'colsample_bytree': 0.5516631473198319,\n",
    "#  'eval_metric': 'auc',\n",
    "#  'random_state': 42}"
   ]
  },
  {
   "cell_type": "code",
   "execution_count": null,
   "metadata": {},
   "outputs": [],
   "source": [
    "model_xgbosting.set_model('xgboost',melhores_param_xgb)\n",
    "model_xgbosting.train_model()"
   ]
  }
 ],
 "metadata": {
  "kernelspec": {
   "display_name": "Python 3",
   "language": "python",
   "name": "python3"
  },
  "language_info": {
   "codemirror_mode": {
    "name": "ipython",
    "version": 3
   },
   "file_extension": ".py",
   "mimetype": "text/x-python",
   "name": "python",
   "nbconvert_exporter": "python",
   "pygments_lexer": "ipython3",
   "version": "3.10.13"
  }
 },
 "nbformat": 4,
 "nbformat_minor": 2
}
